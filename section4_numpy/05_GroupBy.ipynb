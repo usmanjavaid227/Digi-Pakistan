{
 "cells": [
  {
   "cell_type": "markdown",
   "metadata": {},
   "source": [
    "# **Groupby**"
   ]
  },
  {
   "cell_type": "markdown",
   "metadata": {},
   "source": [
    "                    SQL\n",
    "i)**Data manipulation Language** \\\n",
    "           - (update,insert,alter,...) \\\n",
    "ii)**Data Defination Language** \\\n",
    "           - (select,create,...) \\\n",
    "iii)**Data control language** \\\n",
    "           - |(commit,rollback,grant,...) \\\n"
   ]
  },
  {
   "cell_type": "code",
   "execution_count": 1,
   "metadata": {},
   "outputs": [],
   "source": [
    "# Group by\n",
    "import numpy as np\n",
    "import pandas as pd"
   ]
  },
  {
   "cell_type": "code",
   "execution_count": 5,
   "metadata": {},
   "outputs": [],
   "source": [
    "d=np.random.rand(3,3)"
   ]
  },
  {
   "cell_type": "code",
   "execution_count": 6,
   "metadata": {},
   "outputs": [],
   "source": [
    "df=pd.DataFrame(d,columns=['A','B','C'])"
   ]
  },
  {
   "cell_type": "code",
   "execution_count": 7,
   "metadata": {},
   "outputs": [
    {
     "data": {
      "text/html": [
       "<div>\n",
       "<style scoped>\n",
       "    .dataframe tbody tr th:only-of-type {\n",
       "        vertical-align: middle;\n",
       "    }\n",
       "\n",
       "    .dataframe tbody tr th {\n",
       "        vertical-align: top;\n",
       "    }\n",
       "\n",
       "    .dataframe thead th {\n",
       "        text-align: right;\n",
       "    }\n",
       "</style>\n",
       "<table border=\"1\" class=\"dataframe\">\n",
       "  <thead>\n",
       "    <tr style=\"text-align: right;\">\n",
       "      <th></th>\n",
       "      <th>A</th>\n",
       "      <th>B</th>\n",
       "      <th>C</th>\n",
       "    </tr>\n",
       "  </thead>\n",
       "  <tbody>\n",
       "    <tr>\n",
       "      <th>0</th>\n",
       "      <td>0.861741</td>\n",
       "      <td>0.030134</td>\n",
       "      <td>0.131248</td>\n",
       "    </tr>\n",
       "    <tr>\n",
       "      <th>1</th>\n",
       "      <td>0.839135</td>\n",
       "      <td>0.985906</td>\n",
       "      <td>0.202765</td>\n",
       "    </tr>\n",
       "    <tr>\n",
       "      <th>2</th>\n",
       "      <td>0.286303</td>\n",
       "      <td>0.823818</td>\n",
       "      <td>0.000174</td>\n",
       "    </tr>\n",
       "  </tbody>\n",
       "</table>\n",
       "</div>"
      ],
      "text/plain": [
       "          A         B         C\n",
       "0  0.861741  0.030134  0.131248\n",
       "1  0.839135  0.985906  0.202765\n",
       "2  0.286303  0.823818  0.000174"
      ]
     },
     "execution_count": 7,
     "metadata": {},
     "output_type": "execute_result"
    }
   ],
   "source": [
    "df"
   ]
  },
  {
   "cell_type": "code",
   "execution_count": 20,
   "metadata": {},
   "outputs": [],
   "source": [
    "A=df.groupby('C')"
   ]
  },
  {
   "cell_type": "code",
   "execution_count": 25,
   "metadata": {},
   "outputs": [
    {
     "data": {
      "text/plain": [
       "<pandas.core.groupby.generic.DataFrameGroupBy object at 0x000002044CA7CFA0>"
      ]
     },
     "execution_count": 25,
     "metadata": {},
     "output_type": "execute_result"
    }
   ],
   "source": [
    "A"
   ]
  },
  {
   "cell_type": "code",
   "execution_count": 28,
   "metadata": {},
   "outputs": [
    {
     "data": {
      "text/html": [
       "<div>\n",
       "<style scoped>\n",
       "    .dataframe tbody tr th:only-of-type {\n",
       "        vertical-align: middle;\n",
       "    }\n",
       "\n",
       "    .dataframe tbody tr th {\n",
       "        vertical-align: top;\n",
       "    }\n",
       "\n",
       "    .dataframe thead th {\n",
       "        text-align: right;\n",
       "    }\n",
       "</style>\n",
       "<table border=\"1\" class=\"dataframe\">\n",
       "  <thead>\n",
       "    <tr style=\"text-align: right;\">\n",
       "      <th></th>\n",
       "      <th>A</th>\n",
       "      <th>B</th>\n",
       "    </tr>\n",
       "    <tr>\n",
       "      <th>C</th>\n",
       "      <th></th>\n",
       "      <th></th>\n",
       "    </tr>\n",
       "  </thead>\n",
       "  <tbody>\n",
       "    <tr>\n",
       "      <th>0.000174</th>\n",
       "      <td>0.286303</td>\n",
       "      <td>0.823818</td>\n",
       "    </tr>\n",
       "    <tr>\n",
       "      <th>0.131248</th>\n",
       "      <td>0.861741</td>\n",
       "      <td>0.030134</td>\n",
       "    </tr>\n",
       "    <tr>\n",
       "      <th>0.202765</th>\n",
       "      <td>0.839135</td>\n",
       "      <td>0.985906</td>\n",
       "    </tr>\n",
       "  </tbody>\n",
       "</table>\n",
       "</div>"
      ],
      "text/plain": [
       "                 A         B\n",
       "C                           \n",
       "0.000174  0.286303  0.823818\n",
       "0.131248  0.861741  0.030134\n",
       "0.202765  0.839135  0.985906"
      ]
     },
     "execution_count": 28,
     "metadata": {},
     "output_type": "execute_result"
    }
   ],
   "source": [
    "A.max()"
   ]
  },
  {
   "cell_type": "code",
   "execution_count": 22,
   "metadata": {},
   "outputs": [
    {
     "data": {
      "text/html": [
       "<div>\n",
       "<style scoped>\n",
       "    .dataframe tbody tr th:only-of-type {\n",
       "        vertical-align: middle;\n",
       "    }\n",
       "\n",
       "    .dataframe tbody tr th {\n",
       "        vertical-align: top;\n",
       "    }\n",
       "\n",
       "    .dataframe thead th {\n",
       "        text-align: right;\n",
       "    }\n",
       "</style>\n",
       "<table border=\"1\" class=\"dataframe\">\n",
       "  <thead>\n",
       "    <tr style=\"text-align: right;\">\n",
       "      <th></th>\n",
       "      <th>A</th>\n",
       "      <th>B</th>\n",
       "    </tr>\n",
       "    <tr>\n",
       "      <th>C</th>\n",
       "      <th></th>\n",
       "      <th></th>\n",
       "    </tr>\n",
       "  </thead>\n",
       "  <tbody>\n",
       "    <tr>\n",
       "      <th>0.000174</th>\n",
       "      <td>0.286303</td>\n",
       "      <td>0.823818</td>\n",
       "    </tr>\n",
       "    <tr>\n",
       "      <th>0.131248</th>\n",
       "      <td>0.861741</td>\n",
       "      <td>0.030134</td>\n",
       "    </tr>\n",
       "    <tr>\n",
       "      <th>0.202765</th>\n",
       "      <td>0.839135</td>\n",
       "      <td>0.985906</td>\n",
       "    </tr>\n",
       "  </tbody>\n",
       "</table>\n",
       "</div>"
      ],
      "text/plain": [
       "                 A         B\n",
       "C                           \n",
       "0.000174  0.286303  0.823818\n",
       "0.131248  0.861741  0.030134\n",
       "0.202765  0.839135  0.985906"
      ]
     },
     "execution_count": 22,
     "metadata": {},
     "output_type": "execute_result"
    }
   ],
   "source": [
    "A.min()"
   ]
  },
  {
   "cell_type": "code",
   "execution_count": 23,
   "metadata": {},
   "outputs": [
    {
     "data": {
      "text/html": [
       "<div>\n",
       "<style scoped>\n",
       "    .dataframe tbody tr th:only-of-type {\n",
       "        vertical-align: middle;\n",
       "    }\n",
       "\n",
       "    .dataframe tbody tr th {\n",
       "        vertical-align: top;\n",
       "    }\n",
       "\n",
       "    .dataframe thead th {\n",
       "        text-align: right;\n",
       "    }\n",
       "</style>\n",
       "<table border=\"1\" class=\"dataframe\">\n",
       "  <thead>\n",
       "    <tr style=\"text-align: right;\">\n",
       "      <th></th>\n",
       "      <th>A</th>\n",
       "      <th>B</th>\n",
       "    </tr>\n",
       "    <tr>\n",
       "      <th>C</th>\n",
       "      <th></th>\n",
       "      <th></th>\n",
       "    </tr>\n",
       "  </thead>\n",
       "  <tbody>\n",
       "    <tr>\n",
       "      <th>0.000174</th>\n",
       "      <td>0.286303</td>\n",
       "      <td>0.823818</td>\n",
       "    </tr>\n",
       "    <tr>\n",
       "      <th>0.131248</th>\n",
       "      <td>0.861741</td>\n",
       "      <td>0.030134</td>\n",
       "    </tr>\n",
       "    <tr>\n",
       "      <th>0.202765</th>\n",
       "      <td>0.839135</td>\n",
       "      <td>0.985906</td>\n",
       "    </tr>\n",
       "  </tbody>\n",
       "</table>\n",
       "</div>"
      ],
      "text/plain": [
       "                 A         B\n",
       "C                           \n",
       "0.000174  0.286303  0.823818\n",
       "0.131248  0.861741  0.030134\n",
       "0.202765  0.839135  0.985906"
      ]
     },
     "execution_count": 23,
     "metadata": {},
     "output_type": "execute_result"
    }
   ],
   "source": [
    "A.mean()"
   ]
  },
  {
   "cell_type": "code",
   "execution_count": 29,
   "metadata": {},
   "outputs": [
    {
     "data": {
      "text/html": [
       "<div>\n",
       "<style scoped>\n",
       "    .dataframe tbody tr th:only-of-type {\n",
       "        vertical-align: middle;\n",
       "    }\n",
       "\n",
       "    .dataframe tbody tr th {\n",
       "        vertical-align: top;\n",
       "    }\n",
       "\n",
       "    .dataframe thead tr th {\n",
       "        text-align: left;\n",
       "    }\n",
       "\n",
       "    .dataframe thead tr:last-of-type th {\n",
       "        text-align: right;\n",
       "    }\n",
       "</style>\n",
       "<table border=\"1\" class=\"dataframe\">\n",
       "  <thead>\n",
       "    <tr>\n",
       "      <th></th>\n",
       "      <th colspan=\"8\" halign=\"left\">A</th>\n",
       "      <th colspan=\"8\" halign=\"left\">B</th>\n",
       "    </tr>\n",
       "    <tr>\n",
       "      <th></th>\n",
       "      <th>count</th>\n",
       "      <th>mean</th>\n",
       "      <th>std</th>\n",
       "      <th>min</th>\n",
       "      <th>25%</th>\n",
       "      <th>50%</th>\n",
       "      <th>75%</th>\n",
       "      <th>max</th>\n",
       "      <th>count</th>\n",
       "      <th>mean</th>\n",
       "      <th>std</th>\n",
       "      <th>min</th>\n",
       "      <th>25%</th>\n",
       "      <th>50%</th>\n",
       "      <th>75%</th>\n",
       "      <th>max</th>\n",
       "    </tr>\n",
       "    <tr>\n",
       "      <th>C</th>\n",
       "      <th></th>\n",
       "      <th></th>\n",
       "      <th></th>\n",
       "      <th></th>\n",
       "      <th></th>\n",
       "      <th></th>\n",
       "      <th></th>\n",
       "      <th></th>\n",
       "      <th></th>\n",
       "      <th></th>\n",
       "      <th></th>\n",
       "      <th></th>\n",
       "      <th></th>\n",
       "      <th></th>\n",
       "      <th></th>\n",
       "      <th></th>\n",
       "    </tr>\n",
       "  </thead>\n",
       "  <tbody>\n",
       "    <tr>\n",
       "      <th>0.000174</th>\n",
       "      <td>1.0</td>\n",
       "      <td>0.286303</td>\n",
       "      <td>NaN</td>\n",
       "      <td>0.286303</td>\n",
       "      <td>0.286303</td>\n",
       "      <td>0.286303</td>\n",
       "      <td>0.286303</td>\n",
       "      <td>0.286303</td>\n",
       "      <td>1.0</td>\n",
       "      <td>0.823818</td>\n",
       "      <td>NaN</td>\n",
       "      <td>0.823818</td>\n",
       "      <td>0.823818</td>\n",
       "      <td>0.823818</td>\n",
       "      <td>0.823818</td>\n",
       "      <td>0.823818</td>\n",
       "    </tr>\n",
       "    <tr>\n",
       "      <th>0.131248</th>\n",
       "      <td>1.0</td>\n",
       "      <td>0.861741</td>\n",
       "      <td>NaN</td>\n",
       "      <td>0.861741</td>\n",
       "      <td>0.861741</td>\n",
       "      <td>0.861741</td>\n",
       "      <td>0.861741</td>\n",
       "      <td>0.861741</td>\n",
       "      <td>1.0</td>\n",
       "      <td>0.030134</td>\n",
       "      <td>NaN</td>\n",
       "      <td>0.030134</td>\n",
       "      <td>0.030134</td>\n",
       "      <td>0.030134</td>\n",
       "      <td>0.030134</td>\n",
       "      <td>0.030134</td>\n",
       "    </tr>\n",
       "    <tr>\n",
       "      <th>0.202765</th>\n",
       "      <td>1.0</td>\n",
       "      <td>0.839135</td>\n",
       "      <td>NaN</td>\n",
       "      <td>0.839135</td>\n",
       "      <td>0.839135</td>\n",
       "      <td>0.839135</td>\n",
       "      <td>0.839135</td>\n",
       "      <td>0.839135</td>\n",
       "      <td>1.0</td>\n",
       "      <td>0.985906</td>\n",
       "      <td>NaN</td>\n",
       "      <td>0.985906</td>\n",
       "      <td>0.985906</td>\n",
       "      <td>0.985906</td>\n",
       "      <td>0.985906</td>\n",
       "      <td>0.985906</td>\n",
       "    </tr>\n",
       "  </tbody>\n",
       "</table>\n",
       "</div>"
      ],
      "text/plain": [
       "             A                                                        \\\n",
       "         count      mean std       min       25%       50%       75%   \n",
       "C                                                                      \n",
       "0.000174   1.0  0.286303 NaN  0.286303  0.286303  0.286303  0.286303   \n",
       "0.131248   1.0  0.861741 NaN  0.861741  0.861741  0.861741  0.861741   \n",
       "0.202765   1.0  0.839135 NaN  0.839135  0.839135  0.839135  0.839135   \n",
       "\n",
       "                       B                                              \\\n",
       "               max count      mean std       min       25%       50%   \n",
       "C                                                                      \n",
       "0.000174  0.286303   1.0  0.823818 NaN  0.823818  0.823818  0.823818   \n",
       "0.131248  0.861741   1.0  0.030134 NaN  0.030134  0.030134  0.030134   \n",
       "0.202765  0.839135   1.0  0.985906 NaN  0.985906  0.985906  0.985906   \n",
       "\n",
       "                              \n",
       "               75%       max  \n",
       "C                             \n",
       "0.000174  0.823818  0.823818  \n",
       "0.131248  0.030134  0.030134  \n",
       "0.202765  0.985906  0.985906  "
      ]
     },
     "execution_count": 29,
     "metadata": {},
     "output_type": "execute_result"
    }
   ],
   "source": [
    "A.describe()"
   ]
  },
  {
   "cell_type": "code",
   "execution_count": null,
   "metadata": {},
   "outputs": [],
   "source": []
  }
 ],
 "metadata": {
  "kernelspec": {
   "display_name": "Python 3.10.4 64-bit",
   "language": "python",
   "name": "python3"
  },
  "language_info": {
   "codemirror_mode": {
    "name": "ipython",
    "version": 3
   },
   "file_extension": ".py",
   "mimetype": "text/x-python",
   "name": "python",
   "nbconvert_exporter": "python",
   "pygments_lexer": "ipython3",
   "version": "3.10.4"
  },
  "orig_nbformat": 4,
  "vscode": {
   "interpreter": {
    "hash": "369f2c481f4da34e4445cda3fffd2e751bd1c4d706f27375911949ba6bb62e1c"
   }
  }
 },
 "nbformat": 4,
 "nbformat_minor": 2
}
